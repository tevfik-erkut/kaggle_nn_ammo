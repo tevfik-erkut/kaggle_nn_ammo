{
 "cells": [
  {
   "cell_type": "code",
   "execution_count": null,
   "metadata": {
    "execution": {
     "iopub.execute_input": "2021-12-06T16:15:37.987027Z",
     "iopub.status.busy": "2021-12-06T16:15:37.986263Z",
     "iopub.status.idle": "2021-12-06T16:15:58.22884Z",
     "shell.execute_reply": "2021-12-06T16:15:58.228024Z"
    },
    "papermill": {
     "duration": 20.272554,
     "end_time": "2021-12-06T16:15:58.229007",
     "exception": false,
     "start_time": "2021-12-06T16:15:37.956453",
     "status": "completed"
    },
    "tags": []
   },
   "outputs": [],
   "source": [
    "import numpy as np\n",
    "import pandas as pd\n",
    "\n",
    "\n",
    "pd.set_option(\"display.max_columns\", None)\n",
    "\n",
    "train_df = pd.read_csv(\"../input/tabular-playground-series-dec-2021/train.csv\")\n",
    "test_df = pd.read_csv(\"../input/tabular-playground-series-dec-2021/test.csv\")\n",
    "sub_df = pd.read_csv(\"../input/tabular-playground-series-dec-2021/sample_submission.csv\")\n",
    "\n",
    "train_df.head()"
   ]
  },
  {
   "cell_type": "code",
   "execution_count": null,
   "metadata": {
    "execution": {
     "iopub.execute_input": "2021-12-06T16:15:59.102966Z",
     "iopub.status.busy": "2021-12-06T16:15:58.314705Z",
     "iopub.status.idle": "2021-12-06T16:15:59.106629Z",
     "shell.execute_reply": "2021-12-06T16:15:59.10617Z"
    },
    "papermill": {
     "duration": 0.814236,
     "end_time": "2021-12-06T16:15:59.106748",
     "exception": false,
     "start_time": "2021-12-06T16:15:58.292512",
     "status": "completed"
    },
    "tags": []
   },
   "outputs": [],
   "source": [
    "train_df.drop([\"Soil_Type7\", \"Id\", \"Soil_Type15\"], axis=1, inplace=True)\n",
    "test_df.drop([\"Soil_Type7\", \"Id\", \"Soil_Type15\"], axis=1, inplace=True)"
   ]
  },
  {
   "cell_type": "code",
   "execution_count": null,
   "metadata": {
    "execution": {
     "iopub.execute_input": "2021-12-06T16:15:59.966099Z",
     "iopub.status.busy": "2021-12-06T16:15:59.96521Z",
     "iopub.status.idle": "2021-12-06T16:16:00.740843Z",
     "shell.execute_reply": "2021-12-06T16:16:00.739941Z"
    },
    "papermill": {
     "duration": 0.802451,
     "end_time": "2021-12-06T16:16:00.74099",
     "exception": false,
     "start_time": "2021-12-06T16:15:59.938539",
     "status": "completed"
    },
    "tags": []
   },
   "outputs": [],
   "source": [
    "train_df = train_df[train_df.Cover_Type != 5]"
   ]
  },
  {
   "cell_type": "code",
   "execution_count": null,
   "metadata": {
    "execution": {
     "iopub.execute_input": "2021-12-06T16:16:00.828951Z",
     "iopub.status.busy": "2021-12-06T16:16:00.8284Z",
     "iopub.status.idle": "2021-12-06T16:16:00.832239Z",
     "shell.execute_reply": "2021-12-06T16:16:00.831817Z"
    },
    "papermill": {
     "duration": 0.029802,
     "end_time": "2021-12-06T16:16:00.832346",
     "exception": false,
     "start_time": "2021-12-06T16:16:00.802544",
     "status": "completed"
    },
    "tags": []
   },
   "outputs": [],
   "source": [
    "new_names = {\n",
    "    \"Horizontal_Distance_To_Hydrology\": \"x_dist_hydrlgy\",\n",
    "    \"Vertical_Distance_To_Hydrology\": \"y_dist_hydrlgy\",\n",
    "    \"Horizontal_Distance_To_Roadways\": \"x_dist_rdwys\",\n",
    "    \"Horizontal_Distance_To_Fire_Points\": \"x_dist_firepts\"\n",
    "}\n",
    "\n",
    "train_df.rename(new_names, axis=1, inplace=True)\n",
    "test_df.rename(new_names, axis=1, inplace=True)"
   ]
  },
  {
   "cell_type": "code",
   "execution_count": null,
   "metadata": {
    "execution": {
     "iopub.execute_input": "2021-12-06T16:16:00.919315Z",
     "iopub.status.busy": "2021-12-06T16:16:00.918636Z",
     "iopub.status.idle": "2021-12-06T16:16:02.014533Z",
     "shell.execute_reply": "2021-12-06T16:16:02.014067Z"
    },
    "papermill": {
     "duration": 1.119851,
     "end_time": "2021-12-06T16:16:02.01466",
     "exception": false,
     "start_time": "2021-12-06T16:16:00.894809",
     "status": "completed"
    },
    "tags": []
   },
   "outputs": [],
   "source": [
    "from sklearn.preprocessing import LabelEncoder\n",
    "\n",
    "\n",
    "encoder = LabelEncoder()\n",
    "train_df[\"Cover_Type\"] = encoder.fit_transform(train_df[\"Cover_Type\"])"
   ]
  },
  {
   "cell_type": "code",
   "execution_count": null,
   "metadata": {
    "execution": {
     "iopub.execute_input": "2021-12-06T16:16:02.148139Z",
     "iopub.status.busy": "2021-12-06T16:16:02.147418Z",
     "iopub.status.idle": "2021-12-06T16:16:02.458331Z",
     "shell.execute_reply": "2021-12-06T16:16:02.457441Z"
    },
    "papermill": {
     "duration": 0.339444,
     "end_time": "2021-12-06T16:16:02.458481",
     "exception": false,
     "start_time": "2021-12-06T16:16:02.119037",
     "status": "completed"
    },
    "tags": []
   },
   "outputs": [],
   "source": [
    "train_df[\"Aspect\"][train_df[\"Aspect\"] < 0] += 360\n",
    "train_df[\"Aspect\"][train_df[\"Aspect\"] > 359] -= 360\n",
    "\n",
    "test_df[\"Aspect\"][test_df[\"Aspect\"] < 0] += 360\n",
    "test_df[\"Aspect\"][test_df[\"Aspect\"] > 359] -= 360"
   ]
  },
  {
   "cell_type": "code",
   "execution_count": null,
   "metadata": {
    "execution": {
     "iopub.execute_input": "2021-12-06T16:16:02.54962Z",
     "iopub.status.busy": "2021-12-06T16:16:02.548528Z",
     "iopub.status.idle": "2021-12-06T16:16:02.704474Z",
     "shell.execute_reply": "2021-12-06T16:16:02.704909Z"
    },
    "papermill": {
     "duration": 0.183377,
     "end_time": "2021-12-06T16:16:02.705102",
     "exception": false,
     "start_time": "2021-12-06T16:16:02.521725",
     "status": "completed"
    },
    "tags": []
   },
   "outputs": [],
   "source": [
    "# Manhhattan distance to Hydrology\n",
    "train_df[\"mnhttn_dist_hydrlgy\"] = np.abs(train_df[\"x_dist_hydrlgy\"]) + np.abs(train_df[\"y_dist_hydrlgy\"])\n",
    "test_df[\"mnhttn_dist_hydrlgy\"] = np.abs(test_df[\"x_dist_hydrlgy\"]) + np.abs(test_df[\"y_dist_hydrlgy\"])\n",
    "\n",
    "# Euclidean distance to Hydrology\n",
    "train_df[\"ecldn_dist_hydrlgy\"] = (train_df[\"x_dist_hydrlgy\"]**2 + train_df[\"y_dist_hydrlgy\"]**2)**0.5\n",
    "test_df[\"ecldn_dist_hydrlgy\"] = (test_df[\"x_dist_hydrlgy\"]**2 + test_df[\"y_dist_hydrlgy\"]**2)**0.5"
   ]
  },
  {
   "cell_type": "code",
   "execution_count": null,
   "metadata": {
    "execution": {
     "iopub.execute_input": "2021-12-06T16:16:06.836391Z",
     "iopub.status.busy": "2021-12-06T16:16:06.835551Z",
     "iopub.status.idle": "2021-12-06T16:16:07.019381Z",
     "shell.execute_reply": "2021-12-06T16:16:07.018268Z"
    },
    "papermill": {
     "duration": 0.212315,
     "end_time": "2021-12-06T16:16:07.01953",
     "exception": false,
     "start_time": "2021-12-06T16:16:06.807215",
     "status": "completed"
    },
    "tags": []
   },
   "outputs": [],
   "source": [
    "train_df.loc[train_df[\"Hillshade_9am\"] < 0, \"Hillshade_9am\"] = 0\n",
    "test_df.loc[test_df[\"Hillshade_9am\"] < 0, \"Hillshade_9am\"] = 0\n",
    "\n",
    "train_df.loc[train_df[\"Hillshade_Noon\"] < 0, \"Hillshade_Noon\"] = 0\n",
    "test_df.loc[test_df[\"Hillshade_Noon\"] < 0, \"Hillshade_Noon\"] = 0\n",
    "\n",
    "train_df.loc[train_df[\"Hillshade_3pm\"] < 0, \"Hillshade_3pm\"] = 0\n",
    "test_df.loc[test_df[\"Hillshade_3pm\"] < 0, \"Hillshade_3pm\"] = 0\n",
    "\n",
    "train_df.loc[train_df[\"Hillshade_9am\"] > 255, \"Hillshade_9am\"] = 255\n",
    "test_df.loc[test_df[\"Hillshade_9am\"] > 255, \"Hillshade_9am\"] = 255\n",
    "\n",
    "train_df.loc[train_df[\"Hillshade_Noon\"] > 255, \"Hillshade_Noon\"] = 255\n",
    "test_df.loc[test_df[\"Hillshade_Noon\"] > 255, \"Hillshade_Noon\"] = 255\n",
    "\n",
    "train_df.loc[train_df[\"Hillshade_3pm\"] > 255, \"Hillshade_3pm\"] = 255\n",
    "test_df.loc[test_df[\"Hillshade_3pm\"] > 255, \"Hillshade_3pm\"] = 255"
   ]
  },
  {
   "cell_type": "code",
   "execution_count": null,
   "metadata": {},
   "outputs": [],
   "source": [
    "features_Hillshade = ['Hillshade_9am', 'Hillshade_Noon', 'Hillshade_3pm']\n",
    "soil_features = [x for x in train_df.columns if x.startswith(\"Soil_Type\")]\n",
    "wilderness_features = [x for x in train_df.columns if x.startswith(\"Wilderness_Area\")]\n",
    "\n",
    "def addFeature(X):\n",
    "    X[\"Soil_Count\"] = X[soil_features].apply(sum, axis=1)\n",
    "    X[\"Wilderness_Area_Count\"] = X[wilderness_features].apply(sum, axis=1)\n",
    "    X[\"Hillshade_mean\"] = X[features_Hillshade].mean(axis=1)\n",
    "    X['amp_Hillshade'] = X[features_Hillshade].max(axis=1) - X[features_Hillshade].min(axis=1)"
   ]
  },
  {
   "cell_type": "code",
   "execution_count": null,
   "metadata": {},
   "outputs": [],
   "source": [
    "addFeature(train_df)\n",
    "addFeature(test_df)"
   ]
  },
  {
   "cell_type": "code",
   "execution_count": null,
   "metadata": {
    "execution": {
     "iopub.execute_input": "2021-12-06T16:16:07.127096Z",
     "iopub.status.busy": "2021-12-06T16:16:07.125686Z",
     "iopub.status.idle": "2021-12-06T16:16:20.327889Z",
     "shell.execute_reply": "2021-12-06T16:16:20.327385Z"
    },
    "papermill": {
     "duration": 13.234529,
     "end_time": "2021-12-06T16:16:20.328032",
     "exception": false,
     "start_time": "2021-12-06T16:16:07.093503",
     "status": "completed"
    },
    "tags": []
   },
   "outputs": [],
   "source": [
    "from sklearn.preprocessing import RobustScaler\n",
    "\n",
    "\n",
    "cols = [\n",
    "    \"Elevation\",\n",
    "    \"Aspect\",\n",
    "    \"mnhttn_dist_hydrlgy\",\n",
    "    \"ecldn_dist_hydrlgy\",\n",
    "    \"Slope\",\n",
    "    \"x_dist_hydrlgy\",\n",
    "    \"y_dist_hydrlgy\",\n",
    "    \"x_dist_rdwys\",\n",
    "    \"Hillshade_9am\",\n",
    "    \"Hillshade_Noon\",\n",
    "    \"Hillshade_3pm\",\n",
    "    \"x_dist_firepts\",\n",
    "    \n",
    "    \"Soil_Count\",\"Wilderness_Area_Count\",\"Hillshade_mean\",\"amp_Hillshade\"\n",
    "]\n",
    "\n",
    "scaler = RobustScaler()\n",
    "train_df[cols] = scaler.fit_transform(train_df[cols])\n",
    "test_df[cols] = scaler.transform(test_df[cols])"
   ]
  },
  {
   "cell_type": "code",
   "execution_count": null,
   "metadata": {
    "execution": {
     "iopub.execute_input": "2021-12-06T16:16:20.423237Z",
     "iopub.status.busy": "2021-12-06T16:16:20.422276Z",
     "iopub.status.idle": "2021-12-06T16:16:20.424184Z",
     "shell.execute_reply": "2021-12-06T16:16:20.424623Z"
    },
    "papermill": {
     "duration": 0.034272,
     "end_time": "2021-12-06T16:16:20.42474",
     "exception": false,
     "start_time": "2021-12-06T16:16:20.390468",
     "status": "completed"
    },
    "tags": []
   },
   "outputs": [],
   "source": [
    "def reduce_mem_usage(df, verbose=True):\n",
    "    numerics = ['int8','int16', 'int32', 'int64', 'float16', 'float32', 'float64']\n",
    "    start_mem = df.memory_usage().sum() / 1024**2\n",
    "\n",
    "    for col in df.columns:\n",
    "        col_type = df[col].dtypes\n",
    "\n",
    "        if col_type in numerics:\n",
    "            c_min = df[col].min()\n",
    "            c_max = df[col].max()\n",
    "\n",
    "            if str(col_type)[:3] == 'int':\n",
    "                if c_min > np.iinfo(np.int8).min and c_max < np.iinfo(np.int8).max:\n",
    "                    df[col] = df[col].astype(np.int8)\n",
    "                elif c_min > np.iinfo(np.int16).min and c_max < np.iinfo(np.int16).max:\n",
    "                    df[col] = df[col].astype(np.int16)\n",
    "                elif c_min > np.iinfo(np.int32).min and c_max < np.iinfo(np.int32).max:\n",
    "                    df[col] = df[col].astype(np.int32)\n",
    "                elif c_min > np.iinfo(np.int64).min and c_max < np.iinfo(np.int64).max:\n",
    "                    df[col] = df[col].astype(np.int64)  \n",
    "            else:\n",
    "                if c_min > np.finfo(np.float32).min and c_max < np.finfo(np.float32).max:\n",
    "                    df[col] = df[col].astype(np.float32)\n",
    "                else:\n",
    "                    df[col] = df[col].astype(np.float64)\n",
    "\n",
    "    end_mem = df.memory_usage().sum() / 1024**2\n",
    "\n",
    "    if verbose:\n",
    "        print('Mem. usage decreased to {:5.2f} Mb ({:.1f}% reduction)'.format(end_mem, 100 * (start_mem - end_mem) / start_mem))\n",
    " \n",
    "    return df"
   ]
  },
  {
   "cell_type": "code",
   "execution_count": null,
   "metadata": {
    "execution": {
     "iopub.execute_input": "2021-12-06T16:16:20.473203Z",
     "iopub.status.busy": "2021-12-06T16:16:20.472446Z",
     "iopub.status.idle": "2021-12-06T16:16:33.202922Z",
     "shell.execute_reply": "2021-12-06T16:16:33.203507Z"
    },
    "papermill": {
     "duration": 12.758483,
     "end_time": "2021-12-06T16:16:33.203697",
     "exception": false,
     "start_time": "2021-12-06T16:16:20.445214",
     "status": "completed"
    },
    "tags": []
   },
   "outputs": [],
   "source": [
    "train_df = reduce_mem_usage(train_df)\n",
    "test_df = reduce_mem_usage(test_df)"
   ]
  },
  {
   "cell_type": "code",
   "execution_count": null,
   "metadata": {
    "execution": {
     "iopub.execute_input": "2021-12-06T16:16:33.342665Z",
     "iopub.status.busy": "2021-12-06T16:16:33.34216Z",
     "iopub.status.idle": "2021-12-06T16:16:38.099565Z",
     "shell.execute_reply": "2021-12-06T16:16:38.098684Z"
    },
    "papermill": {
     "duration": 4.78512,
     "end_time": "2021-12-06T16:16:38.099706",
     "exception": false,
     "start_time": "2021-12-06T16:16:33.314586",
     "status": "completed"
    },
    "tags": []
   },
   "outputs": [],
   "source": [
    "from tensorflow.keras.models import Sequential\n",
    "from tensorflow.keras.layers import Dense, BatchNormalization\n",
    "\n",
    "\n",
    "INPUT_SHAPE = test_df.shape[1:]\n",
    "NUM_CLASSES = train_df[\"Cover_Type\"].nunique()\n",
    "\n",
    "def build_model():\n",
    "    model = Sequential([\n",
    "        Dense(units=300, kernel_initializer=\"lecun_normal\", activation=\"selu\", input_shape=INPUT_SHAPE),\n",
    "        BatchNormalization(),\n",
    "        Dense(units=200, kernel_initializer=\"lecun_normal\", activation=\"selu\"),\n",
    "        BatchNormalization(),\n",
    "        Dense(units=100, kernel_initializer=\"lecun_normal\", activation=\"selu\"),\n",
    "        BatchNormalization(),\n",
    "        Dense(units=50, kernel_initializer=\"lecun_normal\", activation=\"selu\"),\n",
    "        BatchNormalization(),\n",
    "        Dense(units=NUM_CLASSES, activation=\"softmax\")\n",
    "    ])\n",
    "\n",
    "    model.compile(\n",
    "        optimizer=\"adam\",\n",
    "        loss=\"sparse_categorical_crossentropy\",\n",
    "        metrics=[\"accuracy\"]\n",
    "    )\n",
    "\n",
    "    return model"
   ]
  },
  {
   "cell_type": "code",
   "execution_count": null,
   "metadata": {
    "execution": {
     "iopub.execute_input": "2021-12-06T16:16:38.190611Z",
     "iopub.status.busy": "2021-12-06T16:16:38.189967Z",
     "iopub.status.idle": "2021-12-06T16:16:38.192979Z",
     "shell.execute_reply": "2021-12-06T16:16:38.192548Z"
    },
    "papermill": {
     "duration": 0.028944,
     "end_time": "2021-12-06T16:16:38.193092",
     "exception": false,
     "start_time": "2021-12-06T16:16:38.164148",
     "status": "completed"
    },
    "tags": []
   },
   "outputs": [],
   "source": [
    "from tensorflow.keras.callbacks import ReduceLROnPlateau, EarlyStopping\n",
    "\n",
    "\n",
    "reduce_lr = ReduceLROnPlateau(\n",
    "    monitor=\"val_loss\",\n",
    "    factor=0.5,\n",
    "    patience=5\n",
    ")\n",
    "\n",
    "early_stop = EarlyStopping(\n",
    "    monitor=\"val_accuracy\",\n",
    "    patience=20,\n",
    "    restore_best_weights=True\n",
    ")\n",
    "\n",
    "callbacks = [reduce_lr, early_stop]"
   ]
  },
  {
   "cell_type": "code",
   "execution_count": null,
   "metadata": {
    "execution": {
     "iopub.execute_input": "2021-12-06T16:16:40.585543Z",
     "iopub.status.busy": "2021-12-06T16:16:40.580595Z",
     "iopub.status.idle": "2021-12-06T16:16:41.45346Z",
     "shell.execute_reply": "2021-12-06T16:16:41.453891Z"
    },
    "papermill": {
     "duration": 0.902373,
     "end_time": "2021-12-06T16:16:41.454037",
     "exception": false,
     "start_time": "2021-12-06T16:16:40.551664",
     "status": "completed"
    },
    "tags": []
   },
   "outputs": [],
   "source": [
    "from tensorflow.keras.utils import plot_model\n",
    "\n",
    "\n",
    "plot_model(\n",
    "    build_model(),\n",
    "    show_shapes=True,\n",
    "    show_layer_names=True\n",
    ")"
   ]
  },
  {
   "cell_type": "code",
   "execution_count": null,
   "metadata": {
    "execution": {
     "iopub.execute_input": "2021-12-06T16:16:41.514131Z",
     "iopub.status.busy": "2021-12-06T16:16:41.51343Z",
     "iopub.status.idle": "2021-12-06T19:57:07.132959Z",
     "shell.execute_reply": "2021-12-06T19:57:07.13341Z"
    },
    "papermill": {
     "duration": 13225.654199,
     "end_time": "2021-12-06T19:57:07.133567",
     "exception": false,
     "start_time": "2021-12-06T16:16:41.479368",
     "status": "completed"
    },
    "tags": []
   },
   "outputs": [],
   "source": [
    "from sklearn.model_selection import StratifiedKFold\n",
    "from sklearn.metrics import accuracy_score\n",
    "\n",
    "\n",
    "X = train_df.drop(\"Cover_Type\", axis=1).values\n",
    "y = train_df[\"Cover_Type\"].values\n",
    "\n",
    "del train_df\n",
    "\n",
    "FOLDS = 20\n",
    "EPOCHS = 200\n",
    "BATCH_SIZE = 2048\n",
    "\n",
    "test_preds = np.zeros((1, 1))\n",
    "scores = []\n",
    "\n",
    "cv = StratifiedKFold(n_splits=FOLDS, shuffle=True, random_state=42)\n",
    "\n",
    "for fold, (train_idx, val_idx) in enumerate(cv.split(X, y)):\n",
    "    X_train, X_val = X[train_idx], X[val_idx]\n",
    "    y_train, y_val = y[train_idx], y[val_idx]\n",
    "\n",
    "    model = build_model()\n",
    "    model.fit(\n",
    "        X_train,\n",
    "        y_train,\n",
    "        validation_data=(X_val, y_val),\n",
    "        epochs=EPOCHS,\n",
    "        batch_size=BATCH_SIZE,\n",
    "        callbacks=callbacks,\n",
    "        verbose=False\n",
    "    )\n",
    "\n",
    "    y_pred = np.argmax(model.predict(X_val), axis=1)\n",
    "    score = accuracy_score(y_val, y_pred)\n",
    "    scores.append(score)\n",
    "\n",
    "    test_preds = test_preds + model.predict(test_df)\n",
    "    print(f\"Fold {fold} Accuracy: {score}\")\n",
    "\n",
    "print()\n",
    "print(f\"Mean Accuracy: {np.mean(scores)}\")"
   ]
  },
  {
   "cell_type": "code",
   "execution_count": null,
   "metadata": {
    "execution": {
     "iopub.execute_input": "2021-12-06T19:57:07.263644Z",
     "iopub.status.busy": "2021-12-06T19:57:07.262872Z",
     "iopub.status.idle": "2021-12-06T19:57:07.310394Z",
     "shell.execute_reply": "2021-12-06T19:57:07.310854Z"
    },
    "papermill": {
     "duration": 0.083505,
     "end_time": "2021-12-06T19:57:07.311017",
     "exception": false,
     "start_time": "2021-12-06T19:57:07.227512",
     "status": "completed"
    },
    "tags": []
   },
   "outputs": [],
   "source": [
    "test_preds = np.argmax(test_preds, axis=1)\n",
    "test_preds = encoder.inverse_transform(test_preds)\n",
    "\n",
    "sub_df['Cover_Type'] = test_preds\n",
    "sub_df.head()"
   ]
  },
  {
   "cell_type": "code",
   "execution_count": null,
   "metadata": {
    "execution": {
     "iopub.execute_input": "2021-12-06T19:57:07.378265Z",
     "iopub.status.busy": "2021-12-06T19:57:07.377542Z",
     "iopub.status.idle": "2021-12-06T19:57:08.961982Z",
     "shell.execute_reply": "2021-12-06T19:57:08.961335Z"
    },
    "papermill": {
     "duration": 1.619613,
     "end_time": "2021-12-06T19:57:08.962168",
     "exception": false,
     "start_time": "2021-12-06T19:57:07.342555",
     "status": "completed"
    },
    "tags": []
   },
   "outputs": [],
   "source": [
    "sub_df.to_csv(\"submission.csv\", index=False)"
   ]
  }
 ],
 "metadata": {
  "kernelspec": {
   "display_name": "Python 3 (ipykernel)",
   "language": "python",
   "name": "python3"
  },
  "language_info": {
   "codemirror_mode": {
    "name": "ipython",
    "version": 3
   },
   "file_extension": ".py",
   "mimetype": "text/x-python",
   "name": "python",
   "nbconvert_exporter": "python",
   "pygments_lexer": "ipython3",
   "version": "3.9.7"
  }
 },
 "nbformat": 4,
 "nbformat_minor": 4
}
